{
 "cells": [
  {
   "cell_type": "markdown",
   "id": "edc2a2de",
   "metadata": {},
   "source": [
    "# __SQL Chinook Analysis__"
   ]
  },
  {
   "cell_type": "markdown",
   "id": "6eec35fd",
   "metadata": {},
   "source": [
    "\n"
   ]
  },
  {
   "cell_type": "markdown",
   "id": "e742818d",
   "metadata": {},
   "source": []
  },
  {
   "cell_type": "markdown",
   "id": "c22e0224",
   "metadata": {},
   "source": [
    "The first step of our project is to make sure we can use SQL within Jupyter Notebook,  to do this we first need to install [ipython-sql]( https://github.com/catherinedevlin/ipython-sql). If you have the Anaconda installed you can do so by simply running [this code]( https://anaconda.org/conda-forge/ipython-sql). This code is commented out so it doesn’t need to run every time. "
   ]
  },
  {
   "cell_type": "code",
   "execution_count": 1,
   "id": "69f47671",
   "metadata": {},
   "outputs": [
    {
     "name": "stdout",
     "output_type": "stream",
     "text": [
      "Collecting package metadata (current_repodata.json): ...working... done\n",
      "Solving environment: ...working... done\n",
      "\n",
      "# All requested packages already installed.\n",
      "\n"
     ]
    }
   ],
   "source": [
    "!conda install -yc conda-forge ipython-sql"
   ]
  },
  {
   "cell_type": "markdown",
   "id": "d774188d",
   "metadata": {},
   "source": [
    "Now that our ipython-sql is all up to date we can connect our Jupyter Notebook to our Chinook database we use `%%capture`, `%load_ext sql` and `sqlite:///`"
   ]
  },
  {
   "cell_type": "code",
   "execution_count": 2,
   "id": "b4b97081",
   "metadata": {},
   "outputs": [],
   "source": [
    "%%capture\n",
    "%load_ext sql\n",
    "%sql sqlite:///chinook.db"
   ]
  },
  {
   "cell_type": "markdown",
   "id": "945ce8dc",
   "metadata": {},
   "source": [
    "## __Inspecting Tables__"
   ]
  },
  {
   "cell_type": "markdown",
   "id": "8f57f879",
   "metadata": {},
   "source": [
    "To run our SQL queries, we need to add `%%sql` at the start of each query. To check that our database is properly connected to our Jupyter Notebook we will create a SELECT query from __sqlite_master__ to list all tables. "
   ]
  },
  {
   "cell_type": "code",
   "execution_count": 3,
   "id": "d13c7583",
   "metadata": {
    "scrolled": false
   },
   "outputs": [
    {
     "name": "stdout",
     "output_type": "stream",
     "text": [
      " * sqlite:///chinook.db\n",
      "Done.\n"
     ]
    },
    {
     "data": {
      "text/html": [
       "<table>\n",
       "    <thead>\n",
       "        <tr>\n",
       "            <th>name</th>\n",
       "            <th>type</th>\n",
       "        </tr>\n",
       "    </thead>\n",
       "    <tbody>\n",
       "        <tr>\n",
       "            <td>album</td>\n",
       "            <td>table</td>\n",
       "        </tr>\n",
       "        <tr>\n",
       "            <td>artist</td>\n",
       "            <td>table</td>\n",
       "        </tr>\n",
       "        <tr>\n",
       "            <td>customer</td>\n",
       "            <td>table</td>\n",
       "        </tr>\n",
       "        <tr>\n",
       "            <td>employee</td>\n",
       "            <td>table</td>\n",
       "        </tr>\n",
       "        <tr>\n",
       "            <td>genre</td>\n",
       "            <td>table</td>\n",
       "        </tr>\n",
       "        <tr>\n",
       "            <td>invoice</td>\n",
       "            <td>table</td>\n",
       "        </tr>\n",
       "        <tr>\n",
       "            <td>invoice_line</td>\n",
       "            <td>table</td>\n",
       "        </tr>\n",
       "        <tr>\n",
       "            <td>media_type</td>\n",
       "            <td>table</td>\n",
       "        </tr>\n",
       "        <tr>\n",
       "            <td>playlist</td>\n",
       "            <td>table</td>\n",
       "        </tr>\n",
       "        <tr>\n",
       "            <td>playlist_track</td>\n",
       "            <td>table</td>\n",
       "        </tr>\n",
       "        <tr>\n",
       "            <td>track</td>\n",
       "            <td>table</td>\n",
       "        </tr>\n",
       "    </tbody>\n",
       "</table>"
      ],
      "text/plain": [
       "[('album', 'table'),\n",
       " ('artist', 'table'),\n",
       " ('customer', 'table'),\n",
       " ('employee', 'table'),\n",
       " ('genre', 'table'),\n",
       " ('invoice', 'table'),\n",
       " ('invoice_line', 'table'),\n",
       " ('media_type', 'table'),\n",
       " ('playlist', 'table'),\n",
       " ('playlist_track', 'table'),\n",
       " ('track', 'table')]"
      ]
     },
     "execution_count": 3,
     "metadata": {},
     "output_type": "execute_result"
    }
   ],
   "source": [
    "%%sql\n",
    "SELECT\n",
    "    name,\n",
    "    type\n",
    "FROM sqlite_master\n",
    "WHERE type IN (\"table\",\"view\");"
   ]
  },
  {
   "cell_type": "markdown",
   "id": "7f466b94",
   "metadata": {},
   "source": [
    "company. We can see tables containing data for employees, customers, invoice, track, artist and playlist. \n",
    "\n",
    "Like all relational databases our tables contains [__Primary__ and __Foreign__](https://www.sqlite.org/foreignkeys.html) keys that link all of our tables together. We can see our primary key columns and how our foreign keys interact in the diagram bellow. "
   ]
  },
  {
   "attachments": {
    "chinook_skema.png": {
     "image/png": "[encoded data removed]"
    }
   },
   "cell_type": "markdown",
   "id": "1adaca8d",
   "metadata": {},
   "source": [
    "![chinook_skema.png](attachment:chinook_skema.png)"
   ]
  },
  {
   "cell_type": "markdown",
   "id": "c445b473",
   "metadata": {},
   "source": [
    "Our diagram shows us our data structure and how our foreign keys interact with the tables. Some interesting things that we can see in our tables:\n",
    "\n",
    "- The __employee__ table uses its own primary keys as a foreign key to show which employee answers to who. \n",
    "\n",
    "\n",
    "- Invoices are broken down into two tables, `\n",
    "    - __invoice__\n",
    "    - __invoice_line__\n",
    "    \n",
    "    \n",
    "- The __track__ table has 3 foreign keys in it and is connected to 5 other tables. \n",
    "\n",
    "\n",
    "- The are 5 tables with only 2 columns \n",
    "    - __playlist__\n",
    "    - __playlist_track__\n",
    "    - __artist__\n",
    "    - __media_type__\n",
    "    - __genre__"
   ]
  },
  {
   "cell_type": "markdown",
   "id": "309c070f",
   "metadata": {},
   "source": [
    "## __Inspecting our Tables__"
   ]
  },
  {
   "cell_type": "markdown",
   "id": "e944f23d",
   "metadata": {},
   "source": [
    "We can now create some SELECT queries to inspect some of our bigger tables and get more used to them. "
   ]
  },
  {
   "cell_type": "markdown",
   "id": "3598669f",
   "metadata": {},
   "source": [
    "### __Employee Table__"
   ]
  },
  {
   "cell_type": "code",
   "execution_count": 4,
   "id": "ddcf02b0",
   "metadata": {
    "scrolled": false
   },
   "outputs": [
    {
     "name": "stdout",
     "output_type": "stream",
     "text": [
      " * sqlite:///chinook.db\n",
      "Done.\n"
     ]
    },
    {
     "data": {
      "text/html": [
       "<table>\n",
       "    <thead>\n",
       "        <tr>\n",
       "            <th>employee_id</th>\n",
       "            <th>last_name</th>\n",
       "            <th>first_name</th>\n",
       "            <th>title</th>\n",
       "            <th>reports_to</th>\n",
       "            <th>birthdate</th>\n",
       "            <th>hire_date</th>\n",
       "            <th>address</th>\n",
       "            <th>city</th>\n",
       "            <th>state</th>\n",
       "            <th>country</th>\n",
       "            <th>postal_code</th>\n",
       "            <th>phone</th>\n",
       "            <th>fax</th>\n",
       "            <th>email</th>\n",
       "        </tr>\n",
       "    </thead>\n",
       "    <tbody>\n",
       "        <tr>\n",
       "            <td>1</td>\n",
       "            <td>Adams</td>\n",
       "            <td>Andrew</td>\n",
       "            <td>General Manager</td>\n",
       "            <td>None</td>\n",
       "            <td>1962-02-18 00:00:00</td>\n",
       "            <td>2016-08-14 00:00:00</td>\n",
       "            <td>11120 Jasper Ave NW</td>\n",
       "            <td>Edmonton</td>\n",
       "            <td>AB</td>\n",
       "            <td>Canada</td>\n",
       "            <td>T5K 2N1</td>\n",
       "            <td>+1 (780) 428-9482</td>\n",
       "            <td>+1 (780) 428-3457</td>\n",
       "            <td>andrew@chinookcorp.com</td>\n",
       "        </tr>\n",
       "        <tr>\n",
       "            <td>2</td>\n",
       "            <td>Edwards</td>\n",
       "            <td>Nancy</td>\n",
       "            <td>Sales Manager</td>\n",
       "            <td>1</td>\n",
       "            <td>1958-12-08 00:00:00</td>\n",
       "            <td>2016-05-01 00:00:00</td>\n",
       "            <td>825 8 Ave SW</td>\n",
       "            <td>Calgary</td>\n",
       "            <td>AB</td>\n",
       "            <td>Canada</td>\n",
       "            <td>T2P 2T3</td>\n",
       "            <td>+1 (403) 262-3443</td>\n",
       "            <td>+1 (403) 262-3322</td>\n",
       "            <td>nancy@chinookcorp.com</td>\n",
       "        </tr>\n",
       "        <tr>\n",
       "            <td>3</td>\n",
       "            <td>Peacock</td>\n",
       "            <td>Jane</td>\n",
       "            <td>Sales Support Agent</td>\n",
       "            <td>2</td>\n",
       "            <td>1973-08-29 00:00:00</td>\n",
       "            <td>2017-04-01 00:00:00</td>\n",
       "            <td>1111 6 Ave SW</td>\n",
       "            <td>Calgary</td>\n",
       "            <td>AB</td>\n",
       "            <td>Canada</td>\n",
       "            <td>T2P 5M5</td>\n",
       "            <td>+1 (403) 262-3443</td>\n",
       "            <td>+1 (403) 262-6712</td>\n",
       "            <td>jane@chinookcorp.com</td>\n",
       "        </tr>\n",
       "        <tr>\n",
       "            <td>4</td>\n",
       "            <td>Park</td>\n",
       "            <td>Margaret</td>\n",
       "            <td>Sales Support Agent</td>\n",
       "            <td>2</td>\n",
       "            <td>1947-09-19 00:00:00</td>\n",
       "            <td>2017-05-03 00:00:00</td>\n",
       "            <td>683 10 Street SW</td>\n",
       "            <td>Calgary</td>\n",
       "            <td>AB</td>\n",
       "            <td>Canada</td>\n",
       "            <td>T2P 5G3</td>\n",
       "            <td>+1 (403) 263-4423</td>\n",
       "            <td>+1 (403) 263-4289</td>\n",
       "            <td>margaret@chinookcorp.com</td>\n",
       "        </tr>\n",
       "        <tr>\n",
       "            <td>5</td>\n",
       "            <td>Johnson</td>\n",
       "            <td>Steve</td>\n",
       "            <td>Sales Support Agent</td>\n",
       "            <td>2</td>\n",
       "            <td>1965-03-03 00:00:00</td>\n",
       "            <td>2017-10-17 00:00:00</td>\n",
       "            <td>7727B 41 Ave</td>\n",
       "            <td>Calgary</td>\n",
       "            <td>AB</td>\n",
       "            <td>Canada</td>\n",
       "            <td>T3B 1Y7</td>\n",
       "            <td>1 (780) 836-9987</td>\n",
       "            <td>1 (780) 836-9543</td>\n",
       "            <td>steve@chinookcorp.com</td>\n",
       "        </tr>\n",
       "    </tbody>\n",
       "</table>"
      ],
      "text/plain": [
       "[(1, 'Adams', 'Andrew', 'General Manager', None, '1962-02-18 00:00:00', '2016-08-14 00:00:00', '11120 Jasper Ave NW', 'Edmonton', 'AB', 'Canada', 'T5K 2N1', '+1 (780) 428-9482', '+1 (780) 428-3457', 'andrew@chinookcorp.com'),\n",
       " (2, 'Edwards', 'Nancy', 'Sales Manager', 1, '1958-12-08 00:00:00', '2016-05-01 00:00:00', '825 8 Ave SW', 'Calgary', 'AB', 'Canada', 'T2P 2T3', '+1 (403) 262-3443', '+1 (403) 262-3322', 'nancy@chinookcorp.com'),\n",
       " (3, 'Peacock', 'Jane', 'Sales Support Agent', 2, '1973-08-29 00:00:00', '2017-04-01 00:00:00', '1111 6 Ave SW', 'Calgary', 'AB', 'Canada', 'T2P 5M5', '+1 (403) 262-3443', '+1 (403) 262-6712', 'jane@chinookcorp.com'),\n",
       " (4, 'Park', 'Margaret', 'Sales Support Agent', 2, '1947-09-19 00:00:00', '2017-05-03 00:00:00', '683 10 Street SW', 'Calgary', 'AB', 'Canada', 'T2P 5G3', '+1 (403) 263-4423', '+1 (403) 263-4289', 'margaret@chinookcorp.com'),\n",
       " (5, 'Johnson', 'Steve', 'Sales Support Agent', 2, '1965-03-03 00:00:00', '2017-10-17 00:00:00', '7727B 41 Ave', 'Calgary', 'AB', 'Canada', 'T3B 1Y7', '1 (780) 836-9987', '1 (780) 836-9543', 'steve@chinookcorp.com')]"
      ]
     },
     "execution_count": 4,
     "metadata": {},
     "output_type": "execute_result"
    }
   ],
   "source": [
    "%%sql \n",
    "SELECT * \n",
    "FROM employee \n",
    "LIMIT 5"
   ]
  },
  {
   "cell_type": "markdown",
   "id": "a70584df",
   "metadata": {},
   "source": [
    "As we can see our __employee__ table contains all the information for our employees. We also see that the `reports_to` refers back to the `employee_id`. "
   ]
  },
  {
   "cell_type": "markdown",
   "id": "6d4ab5a5",
   "metadata": {},
   "source": [
    "### __Customer Table__"
   ]
  },
  {
   "cell_type": "code",
   "execution_count": 5,
   "id": "86820eba",
   "metadata": {
    "scrolled": false
   },
   "outputs": [
    {
     "name": "stdout",
     "output_type": "stream",
     "text": [
      " * sqlite:///chinook.db\n",
      "Done.\n"
     ]
    },
    {
     "data": {
      "text/html": [
       "<table>\n",
       "    <thead>\n",
       "        <tr>\n",
       "            <th>customer_id</th>\n",
       "            <th>first_name</th>\n",
       "            <th>last_name</th>\n",
       "            <th>company</th>\n",
       "            <th>address</th>\n",
       "            <th>city</th>\n",
       "            <th>state</th>\n",
       "            <th>country</th>\n",
       "            <th>postal_code</th>\n",
       "            <th>phone</th>\n",
       "            <th>fax</th>\n",
       "            <th>email</th>\n",
       "            <th>support_rep_id</th>\n",
       "        </tr>\n",
       "    </thead>\n",
       "    <tbody>\n",
       "        <tr>\n",
       "            <td>1</td>\n",
       "            <td>Luís</td>\n",
       "            <td>Gonçalves</td>\n",
       "            <td>Embraer - Empresa Brasileira de Aeronáutica S.A.</td>\n",
       "            <td>Av. Brigadeiro Faria Lima, 2170</td>\n",
       "            <td>São José dos Campos</td>\n",
       "            <td>SP</td>\n",
       "            <td>Brazil</td>\n",
       "            <td>12227-000</td>\n",
       "            <td>+55 (12) 3923-5555</td>\n",
       "            <td>+55 (12) 3923-5566</td>\n",
       "            <td>luisg@embraer.com.br</td>\n",
       "            <td>3</td>\n",
       "        </tr>\n",
       "        <tr>\n",
       "            <td>2</td>\n",
       "            <td>Leonie</td>\n",
       "            <td>Köhler</td>\n",
       "            <td>None</td>\n",
       "            <td>Theodor-Heuss-Straße 34</td>\n",
       "            <td>Stuttgart</td>\n",
       "            <td>None</td>\n",
       "            <td>Germany</td>\n",
       "            <td>70174</td>\n",
       "            <td>+49 0711 2842222</td>\n",
       "            <td>None</td>\n",
       "            <td>leonekohler@surfeu.de</td>\n",
       "            <td>5</td>\n",
       "        </tr>\n",
       "        <tr>\n",
       "            <td>3</td>\n",
       "            <td>François</td>\n",
       "            <td>Tremblay</td>\n",
       "            <td>None</td>\n",
       "            <td>1498 rue Bélanger</td>\n",
       "            <td>Montréal</td>\n",
       "            <td>QC</td>\n",
       "            <td>Canada</td>\n",
       "            <td>H2G 1A7</td>\n",
       "            <td>+1 (514) 721-4711</td>\n",
       "            <td>None</td>\n",
       "            <td>ftremblay@gmail.com</td>\n",
       "            <td>3</td>\n",
       "        </tr>\n",
       "        <tr>\n",
       "            <td>4</td>\n",
       "            <td>Bjørn</td>\n",
       "            <td>Hansen</td>\n",
       "            <td>None</td>\n",
       "            <td>Ullevålsveien 14</td>\n",
       "            <td>Oslo</td>\n",
       "            <td>None</td>\n",
       "            <td>Norway</td>\n",
       "            <td>0171</td>\n",
       "            <td>+47 22 44 22 22</td>\n",
       "            <td>None</td>\n",
       "            <td>bjorn.hansen@yahoo.no</td>\n",
       "            <td>4</td>\n",
       "        </tr>\n",
       "        <tr>\n",
       "            <td>5</td>\n",
       "            <td>František</td>\n",
       "            <td>Wichterlová</td>\n",
       "            <td>JetBrains s.r.o.</td>\n",
       "            <td>Klanova 9/506</td>\n",
       "            <td>Prague</td>\n",
       "            <td>None</td>\n",
       "            <td>Czech Republic</td>\n",
       "            <td>14700</td>\n",
       "            <td>+420 2 4172 5555</td>\n",
       "            <td>+420 2 4172 5555</td>\n",
       "            <td>frantisekw@jetbrains.com</td>\n",
       "            <td>4</td>\n",
       "        </tr>\n",
       "    </tbody>\n",
       "</table>"
      ],
      "text/plain": [
       "[(1, 'Luís', 'Gonçalves', 'Embraer - Empresa Brasileira de Aeronáutica S.A.', 'Av. Brigadeiro Faria Lima, 2170', 'São José dos Campos', 'SP', 'Brazil', '12227-000', '+55 (12) 3923-5555', '+55 (12) 3923-5566', 'luisg@embraer.com.br', 3),\n",
       " (2, 'Leonie', 'Köhler', None, 'Theodor-Heuss-Straße 34', 'Stuttgart', None, 'Germany', '70174', '+49 0711 2842222', None, 'leonekohler@surfeu.de', 5),\n",
       " (3, 'François', 'Tremblay', None, '1498 rue Bélanger', 'Montréal', 'QC', 'Canada', 'H2G 1A7', '+1 (514) 721-4711', None, 'ftremblay@gmail.com', 3),\n",
       " (4, 'Bjørn', 'Hansen', None, 'Ullevålsveien 14', 'Oslo', None, 'Norway', '0171', '+47 22 44 22 22', None, 'bjorn.hansen@yahoo.no', 4),\n",
       " (5, 'František', 'Wichterlová', 'JetBrains s.r.o.', 'Klanova 9/506', 'Prague', None, 'Czech Republic', '14700', '+420 2 4172 5555', '+420 2 4172 5555', 'frantisekw@jetbrains.com', 4)]"
      ]
     },
     "execution_count": 5,
     "metadata": {},
     "output_type": "execute_result"
    }
   ],
   "source": [
    "%%sql \n",
    "SELECT *\n",
    "FROM customer\n",
    "LIMIT 5"
   ]
  },
  {
   "cell_type": "markdown",
   "id": "c8b3ee13",
   "metadata": {},
   "source": [
    "We can see that the __customers__ table contains customers name, address and contact info. We also see that the `support_rep_id` relates back to the `employee_id` in the employee table which will be useful when we join tables."
   ]
  },
  {
   "cell_type": "markdown",
   "id": "eb6300b3",
   "metadata": {},
   "source": [
    "### __Invoice Table__"
   ]
  },
  {
   "cell_type": "code",
   "execution_count": 6,
   "id": "04dfbe70",
   "metadata": {
    "scrolled": true
   },
   "outputs": [
    {
     "name": "stdout",
     "output_type": "stream",
     "text": [
      " * sqlite:///chinook.db\n",
      "Done.\n"
     ]
    },
    {
     "data": {
      "text/html": [
       "<table>\n",
       "    <thead>\n",
       "        <tr>\n",
       "            <th>invoice_id</th>\n",
       "            <th>customer_id</th>\n",
       "            <th>invoice_date</th>\n",
       "            <th>billing_address</th>\n",
       "            <th>billing_city</th>\n",
       "            <th>billing_state</th>\n",
       "            <th>billing_country</th>\n",
       "            <th>billing_postal_code</th>\n",
       "            <th>total</th>\n",
       "        </tr>\n",
       "    </thead>\n",
       "    <tbody>\n",
       "        <tr>\n",
       "            <td>1</td>\n",
       "            <td>18</td>\n",
       "            <td>2017-01-03 00:00:00</td>\n",
       "            <td>627 Broadway</td>\n",
       "            <td>New York</td>\n",
       "            <td>NY</td>\n",
       "            <td>USA</td>\n",
       "            <td>10012-2612</td>\n",
       "            <td>15.84</td>\n",
       "        </tr>\n",
       "        <tr>\n",
       "            <td>2</td>\n",
       "            <td>30</td>\n",
       "            <td>2017-01-03 00:00:00</td>\n",
       "            <td>230 Elgin Street</td>\n",
       "            <td>Ottawa</td>\n",
       "            <td>ON</td>\n",
       "            <td>Canada</td>\n",
       "            <td>K2P 1L7</td>\n",
       "            <td>9.9</td>\n",
       "        </tr>\n",
       "        <tr>\n",
       "            <td>3</td>\n",
       "            <td>40</td>\n",
       "            <td>2017-01-05 00:00:00</td>\n",
       "            <td>8, Rue Hanovre</td>\n",
       "            <td>Paris</td>\n",
       "            <td>None</td>\n",
       "            <td>France</td>\n",
       "            <td>75002</td>\n",
       "            <td>1.98</td>\n",
       "        </tr>\n",
       "        <tr>\n",
       "            <td>4</td>\n",
       "            <td>18</td>\n",
       "            <td>2017-01-06 00:00:00</td>\n",
       "            <td>627 Broadway</td>\n",
       "            <td>New York</td>\n",
       "            <td>NY</td>\n",
       "            <td>USA</td>\n",
       "            <td>10012-2612</td>\n",
       "            <td>7.92</td>\n",
       "        </tr>\n",
       "        <tr>\n",
       "            <td>5</td>\n",
       "            <td>27</td>\n",
       "            <td>2017-01-07 00:00:00</td>\n",
       "            <td>1033 N Park Ave</td>\n",
       "            <td>Tucson</td>\n",
       "            <td>AZ</td>\n",
       "            <td>USA</td>\n",
       "            <td>85719</td>\n",
       "            <td>16.83</td>\n",
       "        </tr>\n",
       "    </tbody>\n",
       "</table>"
      ],
      "text/plain": [
       "[(1, 18, '2017-01-03 00:00:00', '627 Broadway', 'New York', 'NY', 'USA', '10012-2612', 15.84),\n",
       " (2, 30, '2017-01-03 00:00:00', '230 Elgin Street', 'Ottawa', 'ON', 'Canada', 'K2P 1L7', 9.9),\n",
       " (3, 40, '2017-01-05 00:00:00', '8, Rue Hanovre', 'Paris', 'None', 'France', '75002', 1.98),\n",
       " (4, 18, '2017-01-06 00:00:00', '627 Broadway', 'New York', 'NY', 'USA', '10012-2612', 7.92),\n",
       " (5, 27, '2017-01-07 00:00:00', '1033 N Park Ave', 'Tucson', 'AZ', 'USA', '85719', 16.83)]"
      ]
     },
     "execution_count": 6,
     "metadata": {},
     "output_type": "execute_result"
    }
   ],
   "source": [
    "%%sql \n",
    "SELECT * \n",
    "FROM invoice\n",
    "LIMIT 5"
   ]
  },
  {
   "cell_type": "markdown",
   "id": "7d7a9867",
   "metadata": {},
   "source": [
    "The __invoice__ table connects to the customers table on the `customer_id` column, we can see that the `total` column contains the total dollar value for each invoice which will be an important column for analysis.  "
   ]
  },
  {
   "cell_type": "markdown",
   "id": "0c063964",
   "metadata": {},
   "source": [
    "### __Invoice_line Table__"
   ]
  },
  {
   "cell_type": "code",
   "execution_count": 7,
   "id": "3c44aa73",
   "metadata": {
    "scrolled": true
   },
   "outputs": [
    {
     "name": "stdout",
     "output_type": "stream",
     "text": [
      " * sqlite:///chinook.db\n",
      "Done.\n"
     ]
    },
    {
     "data": {
      "text/html": [
       "<table>\n",
       "    <thead>\n",
       "        <tr>\n",
       "            <th>invoice_line_id</th>\n",
       "            <th>invoice_id</th>\n",
       "            <th>track_id</th>\n",
       "            <th>unit_price</th>\n",
       "            <th>quantity</th>\n",
       "        </tr>\n",
       "    </thead>\n",
       "    <tbody>\n",
       "        <tr>\n",
       "            <td>1</td>\n",
       "            <td>1</td>\n",
       "            <td>1158</td>\n",
       "            <td>0.99</td>\n",
       "            <td>1</td>\n",
       "        </tr>\n",
       "        <tr>\n",
       "            <td>2</td>\n",
       "            <td>1</td>\n",
       "            <td>1159</td>\n",
       "            <td>0.99</td>\n",
       "            <td>1</td>\n",
       "        </tr>\n",
       "        <tr>\n",
       "            <td>3</td>\n",
       "            <td>1</td>\n",
       "            <td>1160</td>\n",
       "            <td>0.99</td>\n",
       "            <td>1</td>\n",
       "        </tr>\n",
       "        <tr>\n",
       "            <td>4</td>\n",
       "            <td>1</td>\n",
       "            <td>1161</td>\n",
       "            <td>0.99</td>\n",
       "            <td>1</td>\n",
       "        </tr>\n",
       "        <tr>\n",
       "            <td>5</td>\n",
       "            <td>1</td>\n",
       "            <td>1162</td>\n",
       "            <td>0.99</td>\n",
       "            <td>1</td>\n",
       "        </tr>\n",
       "    </tbody>\n",
       "</table>"
      ],
      "text/plain": [
       "[(1, 1, 1158, 0.99, 1),\n",
       " (2, 1, 1159, 0.99, 1),\n",
       " (3, 1, 1160, 0.99, 1),\n",
       " (4, 1, 1161, 0.99, 1),\n",
       " (5, 1, 1162, 0.99, 1)]"
      ]
     },
     "execution_count": 7,
     "metadata": {},
     "output_type": "execute_result"
    }
   ],
   "source": [
    "%%sql \n",
    "SELECT * \n",
    "FROM invoice_line\n",
    "LIMIT 5"
   ]
  },
  {
   "cell_type": "markdown",
   "id": "4fb9b3df",
   "metadata": {},
   "source": [
    "We can see that he __invoice_line__ table lists all items purchased from Chinook and organising them by what invoice they belong to in the `invoice_id`. This table will be useful in the future for analysing total sales.   "
   ]
  },
  {
   "cell_type": "markdown",
   "id": "d0e3e37a",
   "metadata": {},
   "source": [
    "### __Track Table__"
   ]
  },
  {
   "cell_type": "code",
   "execution_count": 8,
   "id": "e5cff5f0",
   "metadata": {
    "scrolled": false
   },
   "outputs": [
    {
     "name": "stdout",
     "output_type": "stream",
     "text": [
      " * sqlite:///chinook.db\n",
      "Done.\n"
     ]
    },
    {
     "data": {
      "text/html": [
       "<table>\n",
       "    <thead>\n",
       "        <tr>\n",
       "            <th>track_id</th>\n",
       "            <th>name</th>\n",
       "            <th>album_id</th>\n",
       "            <th>media_type_id</th>\n",
       "            <th>genre_id</th>\n",
       "            <th>composer</th>\n",
       "            <th>milliseconds</th>\n",
       "            <th>bytes</th>\n",
       "            <th>unit_price</th>\n",
       "        </tr>\n",
       "    </thead>\n",
       "    <tbody>\n",
       "        <tr>\n",
       "            <td>1</td>\n",
       "            <td>For Those About To Rock (We Salute You)</td>\n",
       "            <td>1</td>\n",
       "            <td>1</td>\n",
       "            <td>1</td>\n",
       "            <td>Angus Young, Malcolm Young, Brian Johnson</td>\n",
       "            <td>343719</td>\n",
       "            <td>11170334</td>\n",
       "            <td>0.99</td>\n",
       "        </tr>\n",
       "        <tr>\n",
       "            <td>2</td>\n",
       "            <td>Balls to the Wall</td>\n",
       "            <td>2</td>\n",
       "            <td>2</td>\n",
       "            <td>1</td>\n",
       "            <td>None</td>\n",
       "            <td>342562</td>\n",
       "            <td>5510424</td>\n",
       "            <td>0.99</td>\n",
       "        </tr>\n",
       "        <tr>\n",
       "            <td>3</td>\n",
       "            <td>Fast As a Shark</td>\n",
       "            <td>3</td>\n",
       "            <td>2</td>\n",
       "            <td>1</td>\n",
       "            <td>F. Baltes, S. Kaufman, U. Dirkscneider &amp; W. Hoffman</td>\n",
       "            <td>230619</td>\n",
       "            <td>3990994</td>\n",
       "            <td>0.99</td>\n",
       "        </tr>\n",
       "        <tr>\n",
       "            <td>4</td>\n",
       "            <td>Restless and Wild</td>\n",
       "            <td>3</td>\n",
       "            <td>2</td>\n",
       "            <td>1</td>\n",
       "            <td>F. Baltes, R.A. Smith-Diesel, S. Kaufman, U. Dirkscneider &amp; W. Hoffman</td>\n",
       "            <td>252051</td>\n",
       "            <td>4331779</td>\n",
       "            <td>0.99</td>\n",
       "        </tr>\n",
       "        <tr>\n",
       "            <td>5</td>\n",
       "            <td>Princess of the Dawn</td>\n",
       "            <td>3</td>\n",
       "            <td>2</td>\n",
       "            <td>1</td>\n",
       "            <td>Deaffy &amp; R.A. Smith-Diesel</td>\n",
       "            <td>375418</td>\n",
       "            <td>6290521</td>\n",
       "            <td>0.99</td>\n",
       "        </tr>\n",
       "    </tbody>\n",
       "</table>"
      ],
      "text/plain": [
       "[(1, 'For Those About To Rock (We Salute You)', 1, 1, 1, 'Angus Young, Malcolm Young, Brian Johnson', 343719, 11170334, 0.99),\n",
       " (2, 'Balls to the Wall', 2, 2, 1, None, 342562, 5510424, 0.99),\n",
       " (3, 'Fast As a Shark', 3, 2, 1, 'F. Baltes, S. Kaufman, U. Dirkscneider & W. Hoffman', 230619, 3990994, 0.99),\n",
       " (4, 'Restless and Wild', 3, 2, 1, 'F. Baltes, R.A. Smith-Diesel, S. Kaufman, U. Dirkscneider & W. Hoffman', 252051, 4331779, 0.99),\n",
       " (5, 'Princess of the Dawn', 3, 2, 1, 'Deaffy & R.A. Smith-Diesel', 375418, 6290521, 0.99)]"
      ]
     },
     "execution_count": 8,
     "metadata": {},
     "output_type": "execute_result"
    }
   ],
   "source": [
    "%%sql \n",
    "SELECT * \n",
    "FROM track\n",
    "LIMIT 5"
   ]
  },
  {
   "cell_type": "markdown",
   "id": "b905853c",
   "metadata": {},
   "source": [
    "The __track__ table contains the information of tracks that have been sold. We also see the 3 foreign keys that we saw in the schema diagram; `album_id`, `media_type`, `genre_id`. With so many other tables connected to the __track__ table, we will need include track in many of our Joins for our analysis."
   ]
  },
  {
   "cell_type": "markdown",
   "id": "e2f214bd",
   "metadata": {},
   "source": [
    "# __Database Analysis__"
   ]
  },
  {
   "cell_type": "markdown",
   "id": "313ee4eb",
   "metadata": {},
   "source": [
    "## __Most Popular Genres in USA__"
   ]
  },
  {
   "cell_type": "markdown",
   "id": "4b318a64",
   "metadata": {},
   "source": [
    "Chinook has a client that specialises in artists from the USA. They have asked us to return a list of the top ten most sold music genres sold in the USA and the total sales percentages for each genre. To do this we will start by inspecting the __genre__ table to see how best to join our tables together."
   ]
  },
  {
   "cell_type": "code",
   "execution_count": 9,
   "id": "bcffa273",
   "metadata": {
    "scrolled": true
   },
   "outputs": [
    {
     "name": "stdout",
     "output_type": "stream",
     "text": [
      " * sqlite:///chinook.db\n",
      "Done.\n"
     ]
    },
    {
     "data": {
      "text/html": [
       "<table>\n",
       "    <thead>\n",
       "        <tr>\n",
       "            <th>genre_id</th>\n",
       "            <th>name</th>\n",
       "        </tr>\n",
       "    </thead>\n",
       "    <tbody>\n",
       "        <tr>\n",
       "            <td>1</td>\n",
       "            <td>Rock</td>\n",
       "        </tr>\n",
       "        <tr>\n",
       "            <td>2</td>\n",
       "            <td>Jazz</td>\n",
       "        </tr>\n",
       "        <tr>\n",
       "            <td>3</td>\n",
       "            <td>Metal</td>\n",
       "        </tr>\n",
       "        <tr>\n",
       "            <td>4</td>\n",
       "            <td>Alternative &amp; Punk</td>\n",
       "        </tr>\n",
       "        <tr>\n",
       "            <td>5</td>\n",
       "            <td>Rock And Roll</td>\n",
       "        </tr>\n",
       "        <tr>\n",
       "            <td>6</td>\n",
       "            <td>Blues</td>\n",
       "        </tr>\n",
       "        <tr>\n",
       "            <td>7</td>\n",
       "            <td>Latin</td>\n",
       "        </tr>\n",
       "        <tr>\n",
       "            <td>8</td>\n",
       "            <td>Reggae</td>\n",
       "        </tr>\n",
       "        <tr>\n",
       "            <td>9</td>\n",
       "            <td>Pop</td>\n",
       "        </tr>\n",
       "        <tr>\n",
       "            <td>10</td>\n",
       "            <td>Soundtrack</td>\n",
       "        </tr>\n",
       "    </tbody>\n",
       "</table>"
      ],
      "text/plain": [
       "[(1, 'Rock'),\n",
       " (2, 'Jazz'),\n",
       " (3, 'Metal'),\n",
       " (4, 'Alternative & Punk'),\n",
       " (5, 'Rock And Roll'),\n",
       " (6, 'Blues'),\n",
       " (7, 'Latin'),\n",
       " (8, 'Reggae'),\n",
       " (9, 'Pop'),\n",
       " (10, 'Soundtrack')]"
      ]
     },
     "execution_count": 9,
     "metadata": {},
     "output_type": "execute_result"
    }
   ],
   "source": [
    "%%sql \n",
    "\n",
    "SELECT *\n",
    "FROM genre\n",
    "LIMIT 10"
   ]
  },
  {
   "cell_type": "markdown",
   "id": "f6b41000",
   "metadata": {},
   "source": [
    "We can see that the genre tabe constits of 2 columns:\n",
    "\n",
    "- The `genre_id` which gives each genre type a unique value to identify it\n",
    "- The `name` which says shows the name of each genre associated in the `genre_id`\n",
    "\n",
    "To figure out which genres sold he most in the USA we can start with a subquery called `usa_track_sold` which join the __invoice_line__, __invoice__ and __customer__ tables together. In this subquery we SELECT all columns from the __invoice_line__ table and filter the data on the `country` column in the __customer__ table to only include lines WHERE the country is equal to __USA__.\n",
    "\n",
    "Once we have our __usa_track_sold__ table we can JOIN it to the __track__ table and the __genre__ table. Once we have all of our tables together, we can select the genre name, the COUNT for the number of rows in __usa_track_sold__ and the genre COUNT divide by the total COUNT. We finish this query by grouping by genre name and ordering by track sold. "
   ]
  },
  {
   "cell_type": "code",
   "execution_count": 10,
   "id": "c4cd5cc4",
   "metadata": {
    "scrolled": false
   },
   "outputs": [
    {
     "name": "stdout",
     "output_type": "stream",
     "text": [
      " * sqlite:///chinook.db\n",
      "Done.\n"
     ]
    },
    {
     "data": {
      "text/html": [
       "<table>\n",
       "    <thead>\n",
       "        <tr>\n",
       "            <th>genre</th>\n",
       "            <th>tracks_sold</th>\n",
       "            <th>precentage_sold</th>\n",
       "        </tr>\n",
       "    </thead>\n",
       "    <tbody>\n",
       "        <tr>\n",
       "            <td>Rock</td>\n",
       "            <td>561</td>\n",
       "            <td>53.0</td>\n",
       "        </tr>\n",
       "        <tr>\n",
       "            <td>Alternative &amp; Punk</td>\n",
       "            <td>130</td>\n",
       "            <td>12.0</td>\n",
       "        </tr>\n",
       "        <tr>\n",
       "            <td>Metal</td>\n",
       "            <td>124</td>\n",
       "            <td>12.0</td>\n",
       "        </tr>\n",
       "        <tr>\n",
       "            <td>R&amp;B/Soul</td>\n",
       "            <td>53</td>\n",
       "            <td>5.0</td>\n",
       "        </tr>\n",
       "        <tr>\n",
       "            <td>Blues</td>\n",
       "            <td>36</td>\n",
       "            <td>3.0</td>\n",
       "        </tr>\n",
       "        <tr>\n",
       "            <td>Alternative</td>\n",
       "            <td>35</td>\n",
       "            <td>3.0</td>\n",
       "        </tr>\n",
       "        <tr>\n",
       "            <td>Pop</td>\n",
       "            <td>22</td>\n",
       "            <td>2.0</td>\n",
       "        </tr>\n",
       "        <tr>\n",
       "            <td>Latin</td>\n",
       "            <td>22</td>\n",
       "            <td>2.0</td>\n",
       "        </tr>\n",
       "        <tr>\n",
       "            <td>Hip Hop/Rap</td>\n",
       "            <td>20</td>\n",
       "            <td>2.0</td>\n",
       "        </tr>\n",
       "        <tr>\n",
       "            <td>Jazz</td>\n",
       "            <td>14</td>\n",
       "            <td>1.0</td>\n",
       "        </tr>\n",
       "    </tbody>\n",
       "</table>"
      ],
      "text/plain": [
       "[('Rock', 561, 53.0),\n",
       " ('Alternative & Punk', 130, 12.0),\n",
       " ('Metal', 124, 12.0),\n",
       " ('R&B/Soul', 53, 5.0),\n",
       " ('Blues', 36, 3.0),\n",
       " ('Alternative', 35, 3.0),\n",
       " ('Pop', 22, 2.0),\n",
       " ('Latin', 22, 2.0),\n",
       " ('Hip Hop/Rap', 20, 2.0),\n",
       " ('Jazz', 14, 1.0)]"
      ]
     },
     "execution_count": 10,
     "metadata": {},
     "output_type": "execute_result"
    }
   ],
   "source": [
    "%%sql\n",
    "WITH usa_track_sold AS\n",
    "    (\n",
    "    SELECT il.*\n",
    "    FROM invoice_line AS il\n",
    "    INNER JOIN invoice AS i ON i.invoice_id = il.invoice_id\n",
    "    INNER JOIN customer AS c ON c.customer_id = i.customer_id\n",
    "    WHERE c.country = 'USA'\n",
    "    )\n",
    "\n",
    "SELECT \n",
    "    g.name AS genre,\n",
    "    COUNT(uts.invoice_line_id) AS tracks_sold,\n",
    "    ROUND(CAST(COUNT(uts.invoice_line_id) AS Float) / (SELECT COUNT(*)\n",
    "                                                       FROM usa_track_sold), 2) * 100 AS precentage_sold\n",
    "FROM usa_track_sold AS uts \n",
    "INNER JOIN track AS t ON  t.track_id = uts.track_id \n",
    "INNER JOIN genre AS g ON g.genre_id = t.genre_id \n",
    "GROUP BY g.name\n",
    "ORDER BY tracks_sold DESC\n",
    "LIMIT 10;"
   ]
  },
  {
   "cell_type": "markdown",
   "id": "58c6f52a",
   "metadata": {},
   "source": [
    "We can see that within the top 10 most sold genres Rock music out sold all other genres and made up more than 50% of all sales. We see that Rock sold more than 4 times both Alternetive & Punk/ Metal which both accounted for 12% of sales. Other genres all made up 5% or less in total sales.  "
   ]
  },
  {
   "cell_type": "markdown",
   "id": "43f04e9c",
   "metadata": {},
   "source": [
    "## __Finding Most Successful Support Rep__"
   ]
  },
  {
   "cell_type": "markdown",
   "id": "889fae30",
   "metadata": {},
   "source": [
    "When Chinook gets a new client, they assign an employee as a sales support agent. These employees can be found in the __customer__ table under the `support_rep_id` column which relates back to the `employee_id` in the __employee__ table.\n",
    "\n",
    "To find the sales support rep with the most sales we will again make a subquery and this time we JOIN __customer__ and __invoice__ and use the SELECT operator to return `support_rep_id` and the SUM of the of the `total` column. We will call this new table __rep_total__.\n",
    "\n",
    "We then can join __rep_total__ to the __employee__ table to return all of the desired info for our sales rep employee. We will also concatenate the __employee__ `first_name` and `Last_name` columns to make reading the output easier. "
   ]
  },
  {
   "cell_type": "code",
   "execution_count": 11,
   "id": "42039166",
   "metadata": {},
   "outputs": [
    {
     "name": "stdout",
     "output_type": "stream",
     "text": [
      " * sqlite:///chinook.db\n",
      "Done.\n"
     ]
    },
    {
     "data": {
      "text/html": [
       "<table>\n",
       "    <thead>\n",
       "        <tr>\n",
       "            <th>employee_name</th>\n",
       "            <th>phone</th>\n",
       "            <th>email</th>\n",
       "            <th>total_sales</th>\n",
       "        </tr>\n",
       "    </thead>\n",
       "    <tbody>\n",
       "        <tr>\n",
       "            <td>Jane Peacock</td>\n",
       "            <td>+1 (403) 262-3443</td>\n",
       "            <td>jane@chinookcorp.com</td>\n",
       "            <td>1731.51</td>\n",
       "        </tr>\n",
       "        <tr>\n",
       "            <td>Margaret Park</td>\n",
       "            <td>+1 (403) 263-4423</td>\n",
       "            <td>margaret@chinookcorp.com</td>\n",
       "            <td>1584.0</td>\n",
       "        </tr>\n",
       "        <tr>\n",
       "            <td>Steve Johnson</td>\n",
       "            <td>1 (780) 836-9987</td>\n",
       "            <td>steve@chinookcorp.com</td>\n",
       "            <td>1393.92</td>\n",
       "        </tr>\n",
       "    </tbody>\n",
       "</table>"
      ],
      "text/plain": [
       "[('Jane Peacock', '+1 (403) 262-3443', 'jane@chinookcorp.com', 1731.51),\n",
       " ('Margaret Park', '+1 (403) 263-4423', 'margaret@chinookcorp.com', 1584.0),\n",
       " ('Steve Johnson', '1 (780) 836-9987', 'steve@chinookcorp.com', 1393.92)]"
      ]
     },
     "execution_count": 11,
     "metadata": {},
     "output_type": "execute_result"
    }
   ],
   "source": [
    "%%sql\n",
    "WITH rep_total AS\n",
    "(\n",
    "SELECT \n",
    "c.support_rep_id AS rep,\n",
    "SUM(i.total) AS total_sold\n",
    "FROM customer AS c\n",
    "INNER JOIN invoice AS i ON c.customer_id = i.customer_id\n",
    "GROUP BY rep\n",
    ")\n",
    "\n",
    "SELECT \n",
    "e.first_name ||' '|| e.last_name AS employee_name,\n",
    "e.phone,\n",
    "e.email,\n",
    "ROUND(SUM(rt.total_sold), 2) AS total_sales\n",
    "FROM rep_total AS rt\n",
    "INNER JOIN employee AS e on rt.rep = e.employee_id\n",
    "GROUP BY employee_name\n"
   ]
  },
  {
   "cell_type": "markdown",
   "id": "eb9bbaae",
   "metadata": {},
   "source": [
    "We can see that there is no employee that has an outlying number of sales. Jane is the highest performing sales rep which is only 20% more than Steve in last place."
   ]
  },
  {
   "cell_type": "markdown",
   "id": "8386fb3c",
   "metadata": {},
   "source": [
    "## __Comparing Customers from Different Countries__"
   ]
  },
  {
   "cell_type": "markdown",
   "id": "2c04af12",
   "metadata": {},
   "source": [
    "The next step of our analysis is to compare customers from different countries to find areas to expand. We will be calculating the total sales for each country, the average order value and the customers lifetime value. As Chinook has customers from all over the world, we want filter our countries with only 1 customer into a different ‘Other’ category which we can do with CASE expression. Once we have labelled out countries we can group them and create a new subquery to sort out values. "
   ]
  },
  {
   "cell_type": "code",
   "execution_count": 29,
   "id": "ee33ab65",
   "metadata": {},
   "outputs": [
    {
     "name": "stdout",
     "output_type": "stream",
     "text": [
      " * sqlite:///chinook.db\n",
      "Done.\n"
     ]
    },
    {
     "data": {
      "text/html": [
       "<table>\n",
       "    <thead>\n",
       "        <tr>\n",
       "            <th>country</th>\n",
       "            <th>customers</th>\n",
       "            <th>total_sales</th>\n",
       "            <th>average_order</th>\n",
       "            <th>customer_lifetime_value</th>\n",
       "        </tr>\n",
       "    </thead>\n",
       "    <tbody>\n",
       "        <tr>\n",
       "            <td>USA</td>\n",
       "            <td>13</td>\n",
       "            <td>1040.490000000008</td>\n",
       "            <td>7.942671755725252</td>\n",
       "            <td>80.03769230769292</td>\n",
       "        </tr>\n",
       "        <tr>\n",
       "            <td>Canada</td>\n",
       "            <td>8</td>\n",
       "            <td>535.5900000000034</td>\n",
       "            <td>7.047236842105309</td>\n",
       "            <td>66.94875000000043</td>\n",
       "        </tr>\n",
       "        <tr>\n",
       "            <td>Brazil</td>\n",
       "            <td>5</td>\n",
       "            <td>427.68000000000245</td>\n",
       "            <td>7.011147540983647</td>\n",
       "            <td>85.53600000000048</td>\n",
       "        </tr>\n",
       "        <tr>\n",
       "            <td>France</td>\n",
       "            <td>5</td>\n",
       "            <td>389.0700000000021</td>\n",
       "            <td>7.781400000000042</td>\n",
       "            <td>77.81400000000042</td>\n",
       "        </tr>\n",
       "        <tr>\n",
       "            <td>Germany</td>\n",
       "            <td>4</td>\n",
       "            <td>334.6200000000016</td>\n",
       "            <td>8.161463414634186</td>\n",
       "            <td>83.6550000000004</td>\n",
       "        </tr>\n",
       "        <tr>\n",
       "            <td>Czech Republic</td>\n",
       "            <td>2</td>\n",
       "            <td>273.24000000000103</td>\n",
       "            <td>9.108000000000034</td>\n",
       "            <td>136.62000000000052</td>\n",
       "        </tr>\n",
       "        <tr>\n",
       "            <td>United Kingdom</td>\n",
       "            <td>3</td>\n",
       "            <td>245.52000000000078</td>\n",
       "            <td>8.768571428571457</td>\n",
       "            <td>81.84000000000026</td>\n",
       "        </tr>\n",
       "        <tr>\n",
       "            <td>Portugal</td>\n",
       "            <td>2</td>\n",
       "            <td>185.13000000000022</td>\n",
       "            <td>6.3837931034482835</td>\n",
       "            <td>92.56500000000011</td>\n",
       "        </tr>\n",
       "        <tr>\n",
       "            <td>India</td>\n",
       "            <td>2</td>\n",
       "            <td>183.1500000000002</td>\n",
       "            <td>8.72142857142858</td>\n",
       "            <td>91.5750000000001</td>\n",
       "        </tr>\n",
       "        <tr>\n",
       "            <td>Other</td>\n",
       "            <td>15</td>\n",
       "            <td>1094.9400000000085</td>\n",
       "            <td>7.448571428571486</td>\n",
       "            <td>72.99600000000056</td>\n",
       "        </tr>\n",
       "    </tbody>\n",
       "</table>"
      ],
      "text/plain": [
       "[('USA', 13, 1040.490000000008, 7.942671755725252, 80.03769230769292),\n",
       " ('Canada', 8, 535.5900000000034, 7.047236842105309, 66.94875000000043),\n",
       " ('Brazil', 5, 427.68000000000245, 7.011147540983647, 85.53600000000048),\n",
       " ('France', 5, 389.0700000000021, 7.781400000000042, 77.81400000000042),\n",
       " ('Germany', 4, 334.6200000000016, 8.161463414634186, 83.6550000000004),\n",
       " ('Czech Republic', 2, 273.24000000000103, 9.108000000000034, 136.62000000000052),\n",
       " ('United Kingdom', 3, 245.52000000000078, 8.768571428571457, 81.84000000000026),\n",
       " ('Portugal', 2, 185.13000000000022, 6.3837931034482835, 92.56500000000011),\n",
       " ('India', 2, 183.1500000000002, 8.72142857142858, 91.5750000000001),\n",
       " ('Other', 15, 1094.9400000000085, 7.448571428571486, 72.99600000000056)]"
      ]
     },
     "execution_count": 29,
     "metadata": {},
     "output_type": "execute_result"
    }
   ],
   "source": [
    "%%sql\n",
    "\n",
    "WITH country_or_other AS\n",
    "    (\n",
    "     SELECT\n",
    "       CASE\n",
    "           WHEN (\n",
    "                 SELECT count(*)\n",
    "                 FROM customer\n",
    "                 where country = c.country\n",
    "                ) = 1 THEN \"Other\"\n",
    "           ELSE c.country\n",
    "       END AS country,\n",
    "       c.customer_id,\n",
    "       il.*\n",
    "     FROM invoice_line il\n",
    "     INNER JOIN invoice i ON i.invoice_id = il.invoice_id\n",
    "     INNER JOIN customer c ON c.customer_id = i.customer_id\n",
    "    )\n",
    "\n",
    "SELECT\n",
    "    country,\n",
    "    customers,\n",
    "    total_sales,\n",
    "    average_order,\n",
    "    customer_lifetime_value\n",
    "FROM\n",
    "    (\n",
    "    SELECT\n",
    "        country,\n",
    "        count(distinct customer_id) customers,\n",
    "        SUM(unit_price) total_sales,\n",
    "        SUM(unit_price) / count(distinct customer_id) customer_lifetime_value,\n",
    "        SUM(unit_price) / count(distinct invoice_id) average_order,\n",
    "        CASE\n",
    "            WHEN country = \"Other\" THEN 1\n",
    "            ELSE 0\n",
    "        END AS sort\n",
    "    FROM country_or_other\n",
    "    GROUP BY country\n",
    "    ORDER BY sort ASC, total_sales DESC\n",
    "    );\n"
   ]
  },
  {
   "cell_type": "markdown",
   "id": "2cd9a732",
   "metadata": {},
   "source": [
    "We can see from our output that __USA__ and __Canada__ are the countries where Chinook has the most customers making up about a third of total customers. If we use these two as our benchmark for our comprises we can see that several countries have similar `average_order` and `customer_lifetime_value`.\n",
    "\n",
    "- __Brazil__\n",
    "- __France__ \n",
    "- __Germany__\n",
    "\n",
    "All of these countries have similar values to __USA__ and __Canada__ making these a potential opportunity to expand.\n",
    "Some countries with fever customers such as __Czech Republic__, __Portugal__, __India__ have high `customer_lifetime_value` but due to there being only 2 customers it may not be a reliable place to expand.  "
   ]
  },
  {
   "cell_type": "markdown",
   "id": "66ba51d4",
   "metadata": {},
   "source": [
    "# __Conclusion__"
   ]
  },
  {
   "cell_type": "markdown",
   "id": "50d1f225",
   "metadata": {},
   "source": [
    "By analysing this database containing the data for a fictional online music shop, we have been able to determine several things about Chinook. \n",
    "\n",
    "- We found that `Rock` music was the most sold genre of music in the __USA__. It made up over 50% of all music sold and was 4 times higher than ` Alternative & Punk` and `Metal` which both made up 12% each.\n",
    "- We also found that the Sales Support team was made up of 3 employees. Jean Peacock was the most successful of the Sales Support team and Steve Johnson was the weakest preform selling only 80% of what Jane was selling. \n",
    "- Finally, we looked at the customers from different countries and found that __Brazil__, __France__ and __Germany__ where all potential places to market more. \n",
    "\n",
    "However, major limitation on this fictional database is that it does not contain enough data. We saw when we looked at the customers some countries did not have enough data to make reasonable conclusions. If we would like to use this data to make marketing sessions we should make smaller marketing campaigns to gather more data for further analysis. "
   ]
  }
 ],
 "metadata": {
  "kernelspec": {
   "display_name": "Python 3",
   "language": "python",
   "name": "python3"
  },
  "language_info": {
   "codemirror_mode": {
    "name": "ipython",
    "version": 3
   },
   "file_extension": ".py",
   "mimetype": "text/x-python",
   "name": "python",
   "nbconvert_exporter": "python",
   "pygments_lexer": "ipython3",
   "version": "3.8.8"
  }
 },
 "nbformat": 4,
 "nbformat_minor": 5
}
